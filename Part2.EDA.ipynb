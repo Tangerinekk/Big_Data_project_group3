{
 "cells": [
  {
   "cell_type": "markdown",
   "metadata": {},
   "source": [
    "### GROUP 3 Final Report"
   ]
  },
  {
   "cell_type": "markdown",
   "metadata": {},
   "source": [
    "##### Qi Gui\n",
    "##### Yichen Li\n",
    "##### Junzhe Yin\n",
    "##### Jiatian Ye"
   ]
  },
  {
   "cell_type": "markdown",
   "metadata": {},
   "source": [
    "### PART2. Exploratory Data Analysis "
   ]
  },
  {
   "cell_type": "markdown",
   "metadata": {},
   "source": [
    "#### Environment Preparation"
   ]
  },
  {
   "cell_type": "code",
   "execution_count": 2,
   "metadata": {},
   "outputs": [],
   "source": [
    "# Start SparkSession\n",
    "import findspark\n",
    "findspark.init()\n",
    "from pyspark.sql import SparkSession\n",
    "spark = SparkSession.builder.appName(\"group3_project\").getOrCreate()"
   ]
  },
  {
   "cell_type": "code",
   "execution_count": 3,
   "metadata": {},
   "outputs": [],
   "source": [
    "# Start Spark Context\n",
    "from pyspark import SparkContext, SparkConf\n",
    "sc = spark.sparkContext"
   ]
  },
  {
   "cell_type": "code",
   "execution_count": 4,
   "metadata": {},
   "outputs": [
    {
     "data": {
      "text/html": [
       "\n",
       "            <div>\n",
       "                <p><b>SparkSession - in-memory</b></p>\n",
       "                \n",
       "        <div>\n",
       "            <p><b>SparkContext</b></p>\n",
       "\n",
       "            <p><a href=\"http://ip-172-31-75-64.ec2.internal:4040\">Spark UI</a></p>\n",
       "\n",
       "            <dl>\n",
       "              <dt>Version</dt>\n",
       "                <dd><code>v2.4.4</code></dd>\n",
       "              <dt>Master</dt>\n",
       "                <dd><code>yarn</code></dd>\n",
       "              <dt>AppName</dt>\n",
       "                <dd><code>group3_project</code></dd>\n",
       "            </dl>\n",
       "        </div>\n",
       "        \n",
       "            </div>\n",
       "        "
      ],
      "text/plain": [
       "<pyspark.sql.session.SparkSession at 0x7f71b00a25d0>"
      ]
     },
     "execution_count": 4,
     "metadata": {},
     "output_type": "execute_result"
    }
   ],
   "source": [
    "spark"
   ]
  },
  {
   "cell_type": "code",
   "execution_count": 5,
   "metadata": {},
   "outputs": [
    {
     "data": {
      "text/html": [
       "\n",
       "        <div>\n",
       "            <p><b>SparkContext</b></p>\n",
       "\n",
       "            <p><a href=\"http://ip-172-31-75-64.ec2.internal:4040\">Spark UI</a></p>\n",
       "\n",
       "            <dl>\n",
       "              <dt>Version</dt>\n",
       "                <dd><code>v2.4.4</code></dd>\n",
       "              <dt>Master</dt>\n",
       "                <dd><code>yarn</code></dd>\n",
       "              <dt>AppName</dt>\n",
       "                <dd><code>group3_project</code></dd>\n",
       "            </dl>\n",
       "        </div>\n",
       "        "
      ],
      "text/plain": [
       "<SparkContext master=yarn appName=group3_project>"
      ]
     },
     "execution_count": 5,
     "metadata": {},
     "output_type": "execute_result"
    }
   ],
   "source": [
    "sc"
   ]
  },
  {
   "cell_type": "code",
   "execution_count": 6,
   "metadata": {},
   "outputs": [],
   "source": [
    "from pyspark.sql.functions import isnull, when, count, col\n",
    "from pyspark.sql.functions import UserDefinedFunction\n",
    "from pyspark.sql.types import *\n",
    "from pyspark.sql.functions import *\n",
    "from pyspark.sql import functions\n",
    "import matplotlib.pyplot as plt\n",
    "%matplotlib inline"
   ]
  },
  {
   "cell_type": "code",
   "execution_count": 7,
   "metadata": {},
   "outputs": [],
   "source": [
    "mydf = spark.read.parquet('s3://bigdata-group3/mergedata/hardrive.parquet/*.parquet')"
   ]
  },
  {
   "cell_type": "code",
   "execution_count": 8,
   "metadata": {},
   "outputs": [],
   "source": [
    "drop_columns=[\n",
    "    'smart_2_normalized',\n",
    "    'smart_2_raw',\n",
    "    'smart_8_normalized',\n",
    "    'smart_8_raw',\n",
    "    'smart_11_normalized',\n",
    "    'smart_11_raw',\n",
    "    'smart_13_normalized',\n",
    "    'smart_13_raw',\n",
    "    'smart_15_normalized',\n",
    "    'smart_15_raw',\n",
    "    'smart_22_normalized',\n",
    "    'smart_22_raw',\n",
    "    'smart_177_normalized',\n",
    "    'smart_177_raw',\n",
    "    'smart_179_normalized',\n",
    "    'smart_179_raw',\n",
    "    'smart_181_normalized',\n",
    "    'smart_181_raw',\n",
    "    'smart_182_normalized',\n",
    "    'smart_182_raw',\n",
    "    'smart_183_normalized',\n",
    "    'smart_183_raw',\n",
    "    'smart_184_normalized',\n",
    "    'smart_184_raw',\n",
    "    'smart_189_normalized',\n",
    "    'smart_189_raw',\n",
    "    'smart_191_normalized',\n",
    "    'smart_191_raw',\n",
    "    'smart_195_normalized',\n",
    "    'smart_195_raw',\n",
    "    'smart_196_normalized',\n",
    "    'smart_196_raw',\n",
    "    'smart_200_normalized',\n",
    "    'smart_200_raw',\n",
    "    'smart_201_normalized',\n",
    "    'smart_201_raw',\n",
    "    'smart_220_normalized',\n",
    "    'smart_220_raw',\n",
    "    'smart_222_normalized',\n",
    "    'smart_222_raw',\n",
    "    'smart_223_normalized',\n",
    "    'smart_223_raw',\n",
    "    'smart_224_normalized',\n",
    "    'smart_224_raw',\n",
    "    'smart_225_normalized',\n",
    "    'smart_225_raw',\n",
    "    'smart_226_normalized',\n",
    "    'smart_226_raw',\n",
    "    'smart_235_normalized',\n",
    "    'smart_235_raw',\n",
    "    'smart_250_normalized',\n",
    "    'smart_250_raw',\n",
    "    'smart_251_normalized',\n",
    "    'smart_251_raw',\n",
    "    'smart_252_normalized',\n",
    "    'smart_252_raw',\n",
    "    'smart_254_normalized',\n",
    "    'smart_254_raw',   \n",
    "    'smart_255_normalized',\n",
    "    'smart_255_raw'\n",
    "]\n",
    "mydf_new=mydf.drop(*drop_columns)"
   ]
  },
  {
   "cell_type": "code",
   "execution_count": 8,
   "metadata": {},
   "outputs": [
    {
     "data": {
      "text/plain": [
       "['date',\n",
       " 'serial_number',\n",
       " 'model',\n",
       " 'capacity_bytes',\n",
       " 'failure',\n",
       " 'smart_1_normalized',\n",
       " 'smart_1_raw',\n",
       " 'smart_3_normalized',\n",
       " 'smart_3_raw',\n",
       " 'smart_4_normalized',\n",
       " 'smart_4_raw',\n",
       " 'smart_5_normalized',\n",
       " 'smart_5_raw',\n",
       " 'smart_7_normalized',\n",
       " 'smart_7_raw',\n",
       " 'smart_9_normalized',\n",
       " 'smart_9_raw',\n",
       " 'smart_10_normalized',\n",
       " 'smart_10_raw',\n",
       " 'smart_12_normalized',\n",
       " 'smart_12_raw',\n",
       " 'smart_187_normalized',\n",
       " 'smart_187_raw',\n",
       " 'smart_188_normalized',\n",
       " 'smart_188_raw',\n",
       " 'smart_190_normalized',\n",
       " 'smart_190_raw',\n",
       " 'smart_192_normalized',\n",
       " 'smart_192_raw',\n",
       " 'smart_193_normalized',\n",
       " 'smart_193_raw',\n",
       " 'smart_194_normalized',\n",
       " 'smart_194_raw',\n",
       " 'smart_197_normalized',\n",
       " 'smart_197_raw',\n",
       " 'smart_198_normalized',\n",
       " 'smart_198_raw',\n",
       " 'smart_199_normalized',\n",
       " 'smart_199_raw',\n",
       " 'smart_240_normalized',\n",
       " 'smart_240_raw',\n",
       " 'smart_241_normalized',\n",
       " 'smart_241_raw',\n",
       " 'smart_242_normalized',\n",
       " 'smart_242_raw']"
      ]
     },
     "execution_count": 8,
     "metadata": {},
     "output_type": "execute_result"
    }
   ],
   "source": [
    "mydf_new.columns"
   ]
  },
  {
   "cell_type": "markdown",
   "metadata": {},
   "source": [
    "### Exploratory Analysis"
   ]
  },
  {
   "cell_type": "code",
   "execution_count": 9,
   "metadata": {},
   "outputs": [],
   "source": [
    "import pandas as pd\n",
    "import matplotlib.pyplot as plt\n",
    "from pyspark.sql.functions import col, to_date\n",
    "import seaborn as sns"
   ]
  },
  {
   "cell_type": "code",
   "execution_count": 10,
   "metadata": {},
   "outputs": [
    {
     "name": "stdout",
     "output_type": "stream",
     "text": [
      "root\n",
      " |-- date: timestamp (nullable = true)\n",
      " |-- serial_number: string (nullable = true)\n",
      " |-- model: string (nullable = true)\n",
      " |-- capacity_bytes: long (nullable = true)\n",
      " |-- failure: integer (nullable = true)\n",
      " |-- smart_1_normalized: double (nullable = true)\n",
      " |-- smart_1_raw: double (nullable = true)\n",
      " |-- smart_3_normalized: double (nullable = true)\n",
      " |-- smart_3_raw: double (nullable = true)\n",
      " |-- smart_4_normalized: double (nullable = true)\n",
      " |-- smart_4_raw: double (nullable = true)\n",
      " |-- smart_5_normalized: double (nullable = true)\n",
      " |-- smart_5_raw: double (nullable = true)\n",
      " |-- smart_7_normalized: double (nullable = true)\n",
      " |-- smart_7_raw: double (nullable = true)\n",
      " |-- smart_9_normalized: double (nullable = true)\n",
      " |-- smart_9_raw: double (nullable = true)\n",
      " |-- smart_10_normalized: double (nullable = true)\n",
      " |-- smart_10_raw: double (nullable = true)\n",
      " |-- smart_12_normalized: double (nullable = true)\n",
      " |-- smart_12_raw: double (nullable = true)\n",
      " |-- smart_187_normalized: double (nullable = true)\n",
      " |-- smart_187_raw: double (nullable = true)\n",
      " |-- smart_188_normalized: double (nullable = true)\n",
      " |-- smart_188_raw: double (nullable = true)\n",
      " |-- smart_190_normalized: double (nullable = true)\n",
      " |-- smart_190_raw: double (nullable = true)\n",
      " |-- smart_192_normalized: double (nullable = true)\n",
      " |-- smart_192_raw: double (nullable = true)\n",
      " |-- smart_193_normalized: double (nullable = true)\n",
      " |-- smart_193_raw: double (nullable = true)\n",
      " |-- smart_194_normalized: double (nullable = true)\n",
      " |-- smart_194_raw: double (nullable = true)\n",
      " |-- smart_197_normalized: double (nullable = true)\n",
      " |-- smart_197_raw: double (nullable = true)\n",
      " |-- smart_198_normalized: double (nullable = true)\n",
      " |-- smart_198_raw: double (nullable = true)\n",
      " |-- smart_199_normalized: double (nullable = true)\n",
      " |-- smart_199_raw: double (nullable = true)\n",
      " |-- smart_240_normalized: double (nullable = true)\n",
      " |-- smart_240_raw: double (nullable = true)\n",
      " |-- smart_241_normalized: double (nullable = true)\n",
      " |-- smart_241_raw: double (nullable = true)\n",
      " |-- smart_242_normalized: double (nullable = true)\n",
      " |-- smart_242_raw: double (nullable = true)\n",
      "\n"
     ]
    }
   ],
   "source": [
    "mydf_new.printSchema()"
   ]
  },
  {
   "cell_type": "code",
   "execution_count": 11,
   "metadata": {},
   "outputs": [],
   "source": [
    "mydf_new.createOrReplaceTempView(\"table\")"
   ]
  },
  {
   "cell_type": "markdown",
   "metadata": {},
   "source": [
    "#### 1.Descriptive Analysis"
   ]
  },
  {
   "cell_type": "markdown",
   "metadata": {},
   "source": [
    "First we want to count the total number of failed drives and good drives"
   ]
  },
  {
   "cell_type": "code",
   "execution_count": 13,
   "metadata": {},
   "outputs": [
    {
     "name": "stdout",
     "output_type": "stream",
     "text": [
      "+--------+\n",
      "|count(1)|\n",
      "+--------+\n",
      "|    3591|\n",
      "+--------+\n",
      "\n"
     ]
    }
   ],
   "source": [
    "# The total number of non-failure in our data.\n",
    "spark.sql(\n",
    "\"\"\"\n",
    "SELECT COUNT(*)\n",
    "FROM table\n",
    "where failure=1\n",
    "\"\"\").show()"
   ]
  },
  {
   "cell_type": "code",
   "execution_count": 22,
   "metadata": {},
   "outputs": [
    {
     "name": "stdout",
     "output_type": "stream",
     "text": [
      "+--------+\n",
      "|count(1)|\n",
      "+--------+\n",
      "|76711269|\n",
      "+--------+\n",
      "\n"
     ]
    }
   ],
   "source": [
    "# The total number of good drives in our data.\n",
    "spark.sql(\n",
    "\"\"\"\n",
    "SELECT COUNT(*) \n",
    "FROM table\n",
    "WHERE failure = 0\n",
    "\"\"\").show()"
   ]
  },
  {
   "cell_type": "markdown",
   "metadata": {},
   "source": [
    "So based on above, we found we have 3951 failed drives and 76,711,269 good drives."
   ]
  },
  {
   "cell_type": "markdown",
   "metadata": {},
   "source": [
    "Then we summarize the capacity_bytes of drives group by failure."
   ]
  },
  {
   "cell_type": "code",
   "execution_count": 21,
   "metadata": {},
   "outputs": [
    {
     "name": "stdout",
     "output_type": "stream",
     "text": [
      "+-------+-------------------+-------------------+--------------------+\n",
      "|failure|max(capacity_bytes)|min(capacity_bytes)| avg(capacity_bytes)|\n",
      "+-------+-------------------+-------------------+--------------------+\n",
      "|      1|     14000519643136|                 -1|7.731943432105169E12|\n",
      "|      0|     16000900661248|                 -1|7.554520998855706E12|\n",
      "+-------+-------------------+-------------------+--------------------+\n",
      "\n"
     ]
    }
   ],
   "source": [
    "# summarize capacity_bytes\n",
    "spark.sql(\"\"\"\n",
    "SELECT failure,max(capacity_bytes),min(capacity_bytes),avg(capacity_bytes)\n",
    "FROM table\n",
    "GROUP BY failure\n",
    "\"\"\").cache().show()"
   ]
  },
  {
   "cell_type": "markdown",
   "metadata": {},
   "source": [
    "From above tables, we can see the max drive's capacity is far larger thn the avarage. \n",
    "However, the max,min and avarage value of capacity have not much difference among failed and good drive."
   ]
  },
  {
   "cell_type": "markdown",
   "metadata": {},
   "source": [
    "Then we look at the S.M.A.R.T values of drive, different smart value indicate different features of the drives."
   ]
  },
  {
   "cell_type": "code",
   "execution_count": 17,
   "metadata": {},
   "outputs": [
    {
     "name": "stdout",
     "output_type": "stream",
     "text": [
      "+-------+-----------------+--------------+----------+----------+-----------------+----------+-----------+-----------+\n",
      "|failure|        avg_bytes|    avg_smart1|avg_smart3|avg_smart5|       avg_smart7|avg_smart9|avg_smart10|avg_smart12|\n",
      "+-------+-----------------+--------------+----------+----------+-----------------+----------+-----------+-----------+\n",
      "|      1|7.731943432105E12|1.0619022824E8|     222.0|    2509.6|8.095124012294E10|  17605.48|     312.08|       7.59|\n",
      "|      0|7.554520998856E12| 9.142359948E7|    188.49|       8.8|   2.2399268658E9|   17291.6|      23.14|       6.29|\n",
      "+-------+-----------------+--------------+----------+----------+-----------------+----------+-----------+-----------+\n",
      "\n"
     ]
    }
   ],
   "source": [
    "# looking at the avarage of numeric value \n",
    "spark.sql(\n",
    "\"\"\"\n",
    "SELECT failure, ROUND(AVG(capacity_bytes),0) AS avg_bytes,ROUND(AVG(smart_1_raw),2) AS avg_smart1, ROUND(AVG(smart_3_raw),2) AS avg_smart3,\n",
    "ROUND(AVG(smart_5_raw),2) AS avg_smart5,ROUND(AVG(smart_7_raw),2) AS avg_smart7,ROUND(AVG(smart_9_raw),2) AS avg_smart9, ROUND(AVG(smart_10_raw),2) AS avg_smart10,\n",
    "ROUND(AVG(smart_12_raw),2) AS avg_smart12\n",
    "FROM table\n",
    "GROUP BY failure\n",
    "\"\"\").show()"
   ]
  },
  {
   "cell_type": "code",
   "execution_count": 18,
   "metadata": {},
   "outputs": [
    {
     "name": "stdout",
     "output_type": "stream",
     "text": [
      "+-------+------------+---------------+------------+------------+------------+------------+------------+------------+------------+\n",
      "|failure|avg_smart187|   avg_smart188|avg_smart190|avg_smart192|avg_smart193|avg_smart194|avg_smart197|avg_smart198|avg_smart199|\n",
      "+-------+------------+---------------+------------+------------+------------+------------+------------+------------+------------+\n",
      "|      1|      147.65|1.22334291782E9|       28.42|      129.45|    17781.28|       28.57|       154.3|      150.64|        1.04|\n",
      "|      0|        0.29| 1.1788572663E8|       28.55|      175.18|     14766.3|       28.55|         0.1|        0.09|        0.91|\n",
      "+-------+------------+---------------+------------+------------+------------+------------+------------+------------+------------+\n",
      "\n"
     ]
    }
   ],
   "source": [
    "# looking at the avarage of numeric value \n",
    "spark.sql(\n",
    "\"\"\"\n",
    "SELECT failure, ROUND(AVG(smart_187_raw),2) AS avg_smart187, ROUND(AVG(smart_188_raw),2) AS avg_smart188,\n",
    "ROUND(AVG(smart_190_raw),2) AS avg_smart190,ROUND(AVG(smart_192_raw),2) AS avg_smart192,ROUND(AVG(smart_193_raw),2) AS avg_smart193, ROUND(AVG(smart_194_raw),2) AS avg_smart194,\n",
    "ROUND(AVG(smart_197_raw),2) AS avg_smart197,ROUND(AVG(smart_198_raw),2) AS avg_smart198,ROUND(AVG(smart_199_raw),2) AS avg_smart199\n",
    "FROM table\n",
    "GROUP BY failure\n",
    "\"\"\").show()"
   ]
  },
  {
   "cell_type": "code",
   "execution_count": 19,
   "metadata": {},
   "outputs": [
    {
     "name": "stdout",
     "output_type": "stream",
     "text": [
      "+-------+-------------------+-----------------+------------------+\n",
      "|failure|       avg_smart240|     avg_smart241|      avg_smart242|\n",
      "+-------+-------------------+-----------------+------------------+\n",
      "|      1|1.15904219668358E12|4.560440042654E10|1.2831397514791E11|\n",
      "|      0|1.61980043741236E12|4.335124156654E10|1.0290301694496E11|\n",
      "+-------+-------------------+-----------------+------------------+\n",
      "\n"
     ]
    }
   ],
   "source": [
    "# looking at the avarage of numeric value \n",
    "spark.sql(\n",
    "\"\"\"\n",
    "SELECT failure, ROUND(AVG(smart_240_raw),2) AS avg_smart240, ROUND(AVG(smart_241_raw),2) AS avg_smart241,\n",
    "ROUND(AVG(smart_242_raw),2) AS avg_smart242\n",
    "FROM table\n",
    "GROUP BY failure\n",
    "\"\"\").show()"
   ]
  },
  {
   "cell_type": "markdown",
   "metadata": {},
   "source": [
    "##### Foundings:"
   ]
  },
  {
   "cell_type": "markdown",
   "metadata": {},
   "source": [
    "Looking at the avarage value of the numeric variables group by the failure, we found smart5,smart187,samrt188,smart197,smart198 are significant different among failed and good drives."
   ]
  },
  {
   "cell_type": "markdown",
   "metadata": {},
   "source": [
    "1. smart5 represents the reallocated_sector_count,which indicates the count of reallocated sectors (512 bytes) whenever the hard drive finds a read/write/verification error.So failure hard drive have much higher reallocated_sector count.\n",
    "2. smart187 represents the Reported_Uncorrectable_Errors,drives with failure=0 have nearly 0 Reported_Uncorrectable_Errors.\n",
    "3. smart188 is command timeout,failure disk has larger timeout.\n",
    "4. smart197 is current_pending,indicates the current count of unstable sectors,failure drive has higher current count of unstable sectors. \n",
    "5. smart198 is offline Uncorrectable which indicated the drive marks it as bad, so failure disk has more number marks."
   ]
  },
  {
   "cell_type": "markdown",
   "metadata": {},
   "source": [
    "Then we want to look specifically at these five columns."
   ]
  },
  {
   "cell_type": "markdown",
   "metadata": {},
   "source": [
    "#### 2. Visualization Analysis of Specific S.M.A.R.T Columns"
   ]
  },
  {
   "cell_type": "markdown",
   "metadata": {},
   "source": [
    "\n",
    "Create a column to derive the date from the 'date' column."
   ]
  },
  {
   "cell_type": "code",
   "execution_count": 8,
   "metadata": {},
   "outputs": [],
   "source": [
    "mydf_new = mydf_new.withColumn('date_only', to_date(col('date')))"
   ]
  },
  {
   "cell_type": "code",
   "execution_count": 9,
   "metadata": {},
   "outputs": [],
   "source": [
    "#create year,quarter columns and combined them as quarter2. \n",
    "from pyspark.sql.functions import quarter,year\n",
    "mydf_new = mydf_new.withColumn('year',year(mydf_new.date_only))\n",
    "mydf_new = mydf_new.withColumn('quarter',quarter(mydf_new.date_only))\n",
    "mydf_new = mydf_new.withColumn('quarter2',concat(col('year'),lit(\" \"),col('quarter')))"
   ]
  },
  {
   "cell_type": "markdown",
   "metadata": {},
   "source": [
    "##### 2.1 The distribution of avarage smart_187_raw by quarter"
   ]
  },
  {
   "cell_type": "code",
   "execution_count": 10,
   "metadata": {},
   "outputs": [],
   "source": [
    "mydf_new.createOrReplaceTempView('table2')"
   ]
  },
  {
   "cell_type": "code",
   "execution_count": 11,
   "metadata": {},
   "outputs": [],
   "source": [
    "#The avarage smart_187_raw distribution by quarter\n",
    "sql1 = spark.sql(\n",
    "\"\"\"\n",
    "SELECT ROUND(avg(smart_187_raw),2) as avg_smart187, quarter2\n",
    "FROM table2\n",
    "Group by quarter2\n",
    "Order by quarter2\n",
    "\"\"\"\n",
    ")"
   ]
  },
  {
   "cell_type": "code",
   "execution_count": 14,
   "metadata": {},
   "outputs": [
    {
     "name": "stdout",
     "output_type": "stream",
     "text": [
      "+------------+--------+\n",
      "|avg_smart187|quarter2|\n",
      "+------------+--------+\n",
      "|        0.06|  2018 1|\n",
      "|        0.06|  2018 2|\n",
      "|        0.08|  2018 3|\n",
      "|        0.07|  2018 4|\n",
      "|        0.07|  2019 1|\n",
      "|        0.12|  2019 2|\n",
      "|        0.74|  2019 3|\n",
      "|        1.11|  2019 4|\n",
      "+------------+--------+\n",
      "\n"
     ]
    }
   ],
   "source": [
    "sql1.show()"
   ]
  },
  {
   "cell_type": "code",
   "execution_count": 15,
   "metadata": {},
   "outputs": [
    {
     "name": "stderr",
     "output_type": "stream",
     "text": [
      "/usr/lib/spark/python/pyspark/sql/dataframe.py:2103: UserWarning: toPandas attempted Arrow optimization because 'spark.sql.execution.arrow.enabled' is set to true; however, failed by the reason below:\n",
      "  PyArrow >= 0.8.0 must be installed; however, it was not found.\n",
      "Attempting non-optimization as 'spark.sql.execution.arrow.fallback.enabled' is set to true.\n",
      "  warnings.warn(msg)\n"
     ]
    }
   ],
   "source": [
    "df1=sql1.toPandas()"
   ]
  },
  {
   "cell_type": "code",
   "execution_count": 22,
   "metadata": {},
   "outputs": [
    {
     "data": {
      "image/png": "[encoded data removed]",
      "text/plain": [
       "<Figure size 432x288 with 1 Axes>"
      ]
     },
     "metadata": {
      "needs_background": "light"
     },
     "output_type": "display_data"
    }
   ],
   "source": [
    "# Bar plot of samrt187 by quarter \n",
    "plt.bar(df1['quarter2'], df1['avg_smart187'])\n",
    "plt.title('Average Reported Uncorrectable Errors By Quarter', fontsize=16)\n",
    "plt.show()"
   ]
  },
  {
   "cell_type": "markdown",
   "metadata": {},
   "source": [
    "The average Reported Uncorrectable Errors increases by quarter from 2018-2019."
   ]
  },
  {
   "cell_type": "markdown",
   "metadata": {},
   "source": [
    "##### 2.2 The distribution of avarage smart_5_raw by quarter"
   ]
  },
  {
   "cell_type": "code",
   "execution_count": 11,
   "metadata": {},
   "outputs": [],
   "source": [
    "#The avarage smart_5_raw distribution by quarter\n",
    "sql2 = spark.sql(\n",
    "\"\"\"\n",
    "SELECT ROUND(avg(smart_5_raw),2) as avg_smart5, quarter2\n",
    "FROM table2\n",
    "Group by quarter2\n",
    "Order by quarter2\n",
    "\"\"\"\n",
    ")"
   ]
  },
  {
   "cell_type": "code",
   "execution_count": 13,
   "metadata": {},
   "outputs": [
    {
     "name": "stderr",
     "output_type": "stream",
     "text": [
      "/usr/lib/spark/python/pyspark/sql/dataframe.py:2103: UserWarning: toPandas attempted Arrow optimization because 'spark.sql.execution.arrow.enabled' is set to true; however, failed by the reason below:\n",
      "  PyArrow >= 0.8.0 must be installed; however, it was not found.\n",
      "Attempting non-optimization as 'spark.sql.execution.arrow.fallback.enabled' is set to true.\n",
      "  warnings.warn(msg)\n"
     ]
    }
   ],
   "source": [
    "df2=sql2.toPandas()"
   ]
  },
  {
   "cell_type": "code",
   "execution_count": 14,
   "metadata": {},
   "outputs": [
    {
     "data": {
      "image/png": "[encoded data removed]",
      "text/plain": [
       "<Figure size 432x288 with 1 Axes>"
      ]
     },
     "metadata": {
      "needs_background": "light"
     },
     "output_type": "display_data"
    }
   ],
   "source": [
    "# Plot bar plot of samrt187 by quarter \n",
    "plt.bar(df2['quarter2'], df2['avg_smart5'],color='green')\n",
    "plt.title('Average Reallocated Count By Quarter', fontsize=16)\n",
    "plt.show()"
   ]
  },
  {
   "cell_type": "markdown",
   "metadata": {},
   "source": [
    "The average reallocated count also increase as Quarter increase."
   ]
  },
  {
   "cell_type": "markdown",
   "metadata": {},
   "source": [
    "##### 2.3 The distribution of avarage smart_188_raw by quarter"
   ]
  },
  {
   "cell_type": "code",
   "execution_count": 11,
   "metadata": {},
   "outputs": [],
   "source": [
    "#The avarage smart_5_raw distribution by quarter\n",
    "sql3 = spark.sql(\n",
    "\"\"\"\n",
    "SELECT ROUND(avg(smart_188_raw),-7) as avg_smart188, quarter2\n",
    "FROM table2\n",
    "Group by quarter2\n",
    "Order by quarter2\n",
    "\"\"\"\n",
    ")"
   ]
  },
  {
   "cell_type": "code",
   "execution_count": 12,
   "metadata": {},
   "outputs": [
    {
     "name": "stderr",
     "output_type": "stream",
     "text": [
      "/usr/lib/spark/python/pyspark/sql/dataframe.py:2103: UserWarning: toPandas attempted Arrow optimization because 'spark.sql.execution.arrow.enabled' is set to true; however, failed by the reason below:\n",
      "  PyArrow >= 0.8.0 must be installed; however, it was not found.\n",
      "Attempting non-optimization as 'spark.sql.execution.arrow.fallback.enabled' is set to true.\n",
      "  warnings.warn(msg)\n"
     ]
    }
   ],
   "source": [
    "df3=sql3.toPandas()"
   ]
  },
  {
   "cell_type": "code",
   "execution_count": 13,
   "metadata": {},
   "outputs": [
    {
     "data": {
      "image/png": "[encoded data removed]",
      "text/plain": [
       "<Figure size 432x288 with 1 Axes>"
      ]
     },
     "metadata": {
      "needs_background": "light"
     },
     "output_type": "display_data"
    }
   ],
   "source": [
    "# Plot bar plot of samrt187 by quarter \n",
    "plt.bar(df3['quarter2'], df3['avg_smart188'],color='red')\n",
    "plt.title('Average Command Time Out By Quarter', fontsize=16)\n",
    "plt.show()"
   ]
  },
  {
   "cell_type": "markdown",
   "metadata": {},
   "source": [
    "Also the average command timeout increases quarterly from 2018 to 2019, however, it increases at a lower rate campring SMART5 and SMART187."
   ]
  },
  {
   "cell_type": "markdown",
   "metadata": {},
   "source": [
    "##### 2.4 The distribution of avarage smart_197_raw by quarter"
   ]
  },
  {
   "cell_type": "code",
   "execution_count": 13,
   "metadata": {},
   "outputs": [],
   "source": [
    "#The avarage smart_5_raw distribution by quarter\n",
    "sql4 = spark.sql(\n",
    "\"\"\"\n",
    "SELECT ROUND(avg(smart_197_raw),2) as avg_smart197, quarter2\n",
    "FROM table2\n",
    "Group by quarter2\n",
    "Order by quarter2\n",
    "\"\"\"\n",
    ")"
   ]
  },
  {
   "cell_type": "code",
   "execution_count": 15,
   "metadata": {},
   "outputs": [
    {
     "name": "stderr",
     "output_type": "stream",
     "text": [
      "/usr/lib/spark/python/pyspark/sql/dataframe.py:2103: UserWarning: toPandas attempted Arrow optimization because 'spark.sql.execution.arrow.enabled' is set to true; however, failed by the reason below:\n",
      "  PyArrow >= 0.8.0 must be installed; however, it was not found.\n",
      "Attempting non-optimization as 'spark.sql.execution.arrow.fallback.enabled' is set to true.\n",
      "  warnings.warn(msg)\n"
     ]
    }
   ],
   "source": [
    "df4 = sql4.toPandas()"
   ]
  },
  {
   "cell_type": "code",
   "execution_count": 17,
   "metadata": {},
   "outputs": [
    {
     "data": {
      "image/png": "[encoded data removed]",
      "text/plain": [
       "<Figure size 432x288 with 1 Axes>"
      ]
     },
     "metadata": {
      "needs_background": "light"
     },
     "output_type": "display_data"
    }
   ],
   "source": [
    "# Plot bar plot of samrt187 by quarter \n",
    "plt.bar(df4['quarter2'], df4['avg_smart197'],color='pink')\n",
    "plt.title('Average Current Pending By Quarter', fontsize=16)\n",
    "plt.show()"
   ]
  },
  {
   "cell_type": "markdown",
   "metadata": {},
   "source": [
    "The average current count of unstable sectors have maximum value at 2018 Q2, and decreases until 2019Q2. It goes up from 2019Q2."
   ]
  },
  {
   "cell_type": "markdown",
   "metadata": {},
   "source": [
    "##### 2.4 The distribution of avarage smart_198_raw by quarter"
   ]
  },
  {
   "cell_type": "code",
   "execution_count": 11,
   "metadata": {},
   "outputs": [],
   "source": [
    "#The avarage smart_5_raw distribution by quarter\n",
    "sql5 = spark.sql(\n",
    "\"\"\"\n",
    "SELECT ROUND(avg(smart_198_raw),2) as avg_smart198, quarter2\n",
    "FROM table2\n",
    "Group by quarter2\n",
    "Order by quarter2\n",
    "\"\"\"\n",
    ")"
   ]
  },
  {
   "cell_type": "code",
   "execution_count": 12,
   "metadata": {},
   "outputs": [
    {
     "name": "stderr",
     "output_type": "stream",
     "text": [
      "/usr/lib/spark/python/pyspark/sql/dataframe.py:2103: UserWarning: toPandas attempted Arrow optimization because 'spark.sql.execution.arrow.enabled' is set to true; however, failed by the reason below:\n",
      "  PyArrow >= 0.8.0 must be installed; however, it was not found.\n",
      "Attempting non-optimization as 'spark.sql.execution.arrow.fallback.enabled' is set to true.\n",
      "  warnings.warn(msg)\n"
     ]
    }
   ],
   "source": [
    "df5 = sql5.toPandas()"
   ]
  },
  {
   "cell_type": "code",
   "execution_count": 18,
   "metadata": {},
   "outputs": [
    {
     "data": {
      "image/png": "[encoded data removed]",
      "text/plain": [
       "<Figure size 432x288 with 1 Axes>"
      ]
     },
     "metadata": {
      "needs_background": "light"
     },
     "output_type": "display_data"
    }
   ],
   "source": [
    "# Plot bar plot of samrt187 by quarter \n",
    "plt.bar(df5['quarter2'], df5['avg_smart198'],color='yellow')\n",
    "plt.title('Average offline Uncorrectable Count By Quarter', fontsize=16)\n",
    "plt.show()"
   ]
  },
  {
   "cell_type": "markdown",
   "metadata": {},
   "source": [
    "The average offline uncorrectable count by quarter has similar distribution as smart197, however, it does't increase too much from 2019Q3 to 2019Q4."
   ]
  },
  {
   "cell_type": "markdown",
   "metadata": {},
   "source": [
    "#### 3. Hard drives' lifetime Analysis "
   ]
  },
  {
   "cell_type": "markdown",
   "metadata": {},
   "source": [
    "* Next, we want to find out the lifetime of failure hard drive, in other words, calculating the length of time a hard drive is used. \n",
    "* Why we interested in this is because both customers and merchants wants to know the lifetime of a hard drive. On the one hand, for customers, they will know the minimum usage time of a hard drive, on the other hand, merchant could use lifetime as an indicator to check their product and re-enact the relevant insurance policies for commodities. "
   ]
  },
  {
   "cell_type": "markdown",
   "metadata": {},
   "source": [
    "##### 3.1 Select the failure part into a new dataframe"
   ]
  },
  {
   "cell_type": "code",
   "execution_count": 9,
   "metadata": {},
   "outputs": [
    {
     "data": {
      "text/plain": [
       "Row(date=datetime.datetime(2019, 2, 28, 0, 0), serial_number='S301NH5Z', model='ST4000DM000', capacity_bytes=4000787030016, failure=1, smart_1_normalized=116.0, smart_1_raw=116052776.0, smart_3_normalized=92.0, smart_3_raw=0.0, smart_4_normalized=100.0, smart_4_raw=8.0, smart_5_normalized=98.0, smart_5_raw=2088.0, smart_7_normalized=90.0, smart_7_raw=366929.0, smart_9_normalized=68.0, smart_9_raw=28400.0, smart_10_normalized=100.0, smart_10_raw=0.0, smart_12_normalized=100.0, smart_12_raw=7.0, smart_187_normalized=93.0, smart_187_raw=7.0, smart_188_normalized=100.0, smart_188_raw=0.0, smart_190_normalized=77.0, smart_190_raw=23.0, smart_192_normalized=100.0, smart_192_raw=0.0, smart_193_normalized=33.0, smart_193_raw=134620.0, smart_194_normalized=23.0, smart_194_raw=23.0, smart_197_normalized=100.0, smart_197_raw=0.0, smart_198_normalized=100.0, smart_198_raw=0.0, smart_199_normalized=200.0, smart_199_raw=0.0, smart_240_normalized=100.0, smart_240_raw=27603.0, smart_241_normalized=100.0, smart_241_raw=28555732472.0, smart_242_normalized=100.0, smart_242_raw=137206893291.0)"
      ]
     },
     "execution_count": 9,
     "metadata": {},
     "output_type": "execute_result"
    }
   ],
   "source": [
    "hdd_fail = mydf_new[mydf_new['failure'] == 1]\n",
    "hdd_fail.head()"
   ]
  },
  {
   "cell_type": "code",
   "execution_count": 10,
   "metadata": {},
   "outputs": [
    {
     "data": {
      "text/plain": [
       "3591"
      ]
     },
     "execution_count": 10,
     "metadata": {},
     "output_type": "execute_result"
    }
   ],
   "source": [
    "hdd_fail.count()"
   ]
  },
  {
   "cell_type": "code",
   "execution_count": 11,
   "metadata": {},
   "outputs": [
    {
     "name": "stderr",
     "output_type": "stream",
     "text": [
      "/home/hadoop/miniconda/lib/python3.7/site-packages/pyarrow/util.py:39: FutureWarning: pyarrow.open_stream is deprecated as of 0.17.0, please use pyarrow.ipc.open_stream instead\n",
      "  warnings.warn(msg, FutureWarning)\n"
     ]
    }
   ],
   "source": [
    "#Change the data to toPandas() in order for visualization part\n",
    "hdd_fail1 = hdd_fail.toPandas()"
   ]
  },
  {
   "cell_type": "code",
   "execution_count": 12,
   "metadata": {},
   "outputs": [
    {
     "name": "stdout",
     "output_type": "stream",
     "text": [
      "<class 'pandas.core.frame.DataFrame'>\n",
      "RangeIndex: 3591 entries, 0 to 3590\n",
      "Data columns (total 45 columns):\n",
      " #   Column                Non-Null Count  Dtype         \n",
      "---  ------                --------------  -----         \n",
      " 0   date                  3591 non-null   datetime64[ns]\n",
      " 1   serial_number         3591 non-null   object        \n",
      " 2   model                 3591 non-null   object        \n",
      " 3   capacity_bytes        3591 non-null   int64         \n",
      " 4   failure               3591 non-null   int32         \n",
      " 5   smart_1_normalized    3571 non-null   float64       \n",
      " 6   smart_1_raw           3571 non-null   float64       \n",
      " 7   smart_3_normalized    3570 non-null   float64       \n",
      " 8   smart_3_raw           3570 non-null   float64       \n",
      " 9   smart_4_normalized    3570 non-null   float64       \n",
      " 10  smart_4_raw           3570 non-null   float64       \n",
      " 11  smart_5_normalized    3580 non-null   float64       \n",
      " 12  smart_5_raw           3580 non-null   float64       \n",
      " 13  smart_7_normalized    3570 non-null   float64       \n",
      " 14  smart_7_raw           3570 non-null   float64       \n",
      " 15  smart_9_normalized    3581 non-null   float64       \n",
      " 16  smart_9_raw           3581 non-null   float64       \n",
      " 17  smart_10_normalized   3570 non-null   float64       \n",
      " 18  smart_10_raw          3570 non-null   float64       \n",
      " 19  smart_12_normalized   3581 non-null   float64       \n",
      " 20  smart_12_raw          3581 non-null   float64       \n",
      " 21  smart_187_normalized  3068 non-null   float64       \n",
      " 22  smart_187_raw         3068 non-null   float64       \n",
      " 23  smart_188_normalized  3058 non-null   float64       \n",
      " 24  smart_188_raw         3058 non-null   float64       \n",
      " 25  smart_190_normalized  3068 non-null   float64       \n",
      " 26  smart_190_raw         3068 non-null   float64       \n",
      " 27  smart_192_normalized  3571 non-null   float64       \n",
      " 28  smart_192_raw         3571 non-null   float64       \n",
      " 29  smart_193_normalized  3487 non-null   float64       \n",
      " 30  smart_193_raw         3487 non-null   float64       \n",
      " 31  smart_194_normalized  3571 non-null   float64       \n",
      " 32  smart_194_raw         3571 non-null   float64       \n",
      " 33  smart_197_normalized  3570 non-null   float64       \n",
      " 34  smart_197_raw         3570 non-null   float64       \n",
      " 35  smart_198_normalized  3570 non-null   float64       \n",
      " 36  smart_198_raw         3570 non-null   float64       \n",
      " 37  smart_199_normalized  3580 non-null   float64       \n",
      " 38  smart_199_raw         3580 non-null   float64       \n",
      " 39  smart_240_normalized  3241 non-null   float64       \n",
      " 40  smart_240_raw         3241 non-null   float64       \n",
      " 41  smart_241_normalized  3075 non-null   float64       \n",
      " 42  smart_241_raw         3075 non-null   float64       \n",
      " 43  smart_242_normalized  3065 non-null   float64       \n",
      " 44  smart_242_raw         3065 non-null   float64       \n",
      "dtypes: datetime64[ns](1), float64(40), int32(1), int64(1), object(2)\n",
      "memory usage: 1.2+ MB\n"
     ]
    }
   ],
   "source": [
    "#Checkout the features and non-nulls\n",
    "hdd_fail1.info()"
   ]
  },
  {
   "cell_type": "markdown",
   "metadata": {},
   "source": [
    "##### 3.2 Build the lifetime model"
   ]
  },
  {
   "cell_type": "code",
   "execution_count": 16,
   "metadata": {},
   "outputs": [],
   "source": [
    "from sklearn import linear_model\n",
    "import pandas as pd\n",
    "import numpy as np\n",
    "import matplotlib.pyplot as plt\n",
    "import seaborn as sns\n",
    "import warnings\n",
    "warnings.filterwarnings('ignore')"
   ]
  },
  {
   "cell_type": "code",
   "execution_count": 24,
   "metadata": {
    "collapsed": true,
    "jupyter": {
     "outputs_hidden": true
    }
   },
   "outputs": [
    {
     "data": {
      "text/html": [
       "<div>\n",
       "<style scoped>\n",
       "    .dataframe tbody tr th:only-of-type {\n",
       "        vertical-align: middle;\n",
       "    }\n",
       "\n",
       "    .dataframe tbody tr th {\n",
       "        vertical-align: top;\n",
       "    }\n",
       "\n",
       "    .dataframe thead th {\n",
       "        text-align: right;\n",
       "    }\n",
       "</style>\n",
       "<table border=\"1\" class=\"dataframe\">\n",
       "  <thead>\n",
       "    <tr style=\"text-align: right;\">\n",
       "      <th></th>\n",
       "      <th>date</th>\n",
       "      <th>serial_number</th>\n",
       "      <th>model</th>\n",
       "      <th>capacity_bytes</th>\n",
       "      <th>failure</th>\n",
       "      <th>smart_1_normalized</th>\n",
       "      <th>smart_1_raw</th>\n",
       "      <th>smart_3_normalized</th>\n",
       "      <th>smart_3_raw</th>\n",
       "      <th>smart_4_normalized</th>\n",
       "      <th>...</th>\n",
       "      <th>smart_198_raw</th>\n",
       "      <th>smart_199_normalized</th>\n",
       "      <th>smart_199_raw</th>\n",
       "      <th>smart_240_normalized</th>\n",
       "      <th>smart_240_raw</th>\n",
       "      <th>smart_241_normalized</th>\n",
       "      <th>smart_241_raw</th>\n",
       "      <th>smart_242_normalized</th>\n",
       "      <th>smart_242_raw</th>\n",
       "      <th>lifetime</th>\n",
       "    </tr>\n",
       "  </thead>\n",
       "  <tbody>\n",
       "    <tr>\n",
       "      <th>0</th>\n",
       "      <td>2019-02-28</td>\n",
       "      <td>S301NH5Z</td>\n",
       "      <td>ST4000DM000</td>\n",
       "      <td>4000787030016</td>\n",
       "      <td>1</td>\n",
       "      <td>116.0</td>\n",
       "      <td>116052776.0</td>\n",
       "      <td>92.0</td>\n",
       "      <td>0.0</td>\n",
       "      <td>100.0</td>\n",
       "      <td>...</td>\n",
       "      <td>0.0</td>\n",
       "      <td>200.0</td>\n",
       "      <td>0.0</td>\n",
       "      <td>100.0</td>\n",
       "      <td>27603.0</td>\n",
       "      <td>100.0</td>\n",
       "      <td>2.855573e+10</td>\n",
       "      <td>100.0</td>\n",
       "      <td>1.372069e+11</td>\n",
       "      <td>0</td>\n",
       "    </tr>\n",
       "    <tr>\n",
       "      <th>1</th>\n",
       "      <td>2019-02-28</td>\n",
       "      <td>ZCH0DYK0</td>\n",
       "      <td>ST12000NM0007</td>\n",
       "      <td>12000138625024</td>\n",
       "      <td>1</td>\n",
       "      <td>82.0</td>\n",
       "      <td>168484080.0</td>\n",
       "      <td>91.0</td>\n",
       "      <td>0.0</td>\n",
       "      <td>100.0</td>\n",
       "      <td>...</td>\n",
       "      <td>0.0</td>\n",
       "      <td>200.0</td>\n",
       "      <td>0.0</td>\n",
       "      <td>100.0</td>\n",
       "      <td>6898.0</td>\n",
       "      <td>100.0</td>\n",
       "      <td>3.684632e+10</td>\n",
       "      <td>100.0</td>\n",
       "      <td>5.536328e+10</td>\n",
       "      <td>0</td>\n",
       "    </tr>\n",
       "    <tr>\n",
       "      <th>2</th>\n",
       "      <td>2019-02-28</td>\n",
       "      <td>ZCH0AXMF</td>\n",
       "      <td>ST12000NM0007</td>\n",
       "      <td>12000138625024</td>\n",
       "      <td>1</td>\n",
       "      <td>80.0</td>\n",
       "      <td>93240536.0</td>\n",
       "      <td>94.0</td>\n",
       "      <td>0.0</td>\n",
       "      <td>100.0</td>\n",
       "      <td>...</td>\n",
       "      <td>0.0</td>\n",
       "      <td>200.0</td>\n",
       "      <td>0.0</td>\n",
       "      <td>100.0</td>\n",
       "      <td>9552.0</td>\n",
       "      <td>100.0</td>\n",
       "      <td>5.001290e+10</td>\n",
       "      <td>100.0</td>\n",
       "      <td>8.338128e+10</td>\n",
       "      <td>0</td>\n",
       "    </tr>\n",
       "    <tr>\n",
       "      <th>3</th>\n",
       "      <td>2019-02-28</td>\n",
       "      <td>ZCH03YFN</td>\n",
       "      <td>ST12000NM0007</td>\n",
       "      <td>12000138625024</td>\n",
       "      <td>1</td>\n",
       "      <td>83.0</td>\n",
       "      <td>182583552.0</td>\n",
       "      <td>91.0</td>\n",
       "      <td>0.0</td>\n",
       "      <td>100.0</td>\n",
       "      <td>...</td>\n",
       "      <td>0.0</td>\n",
       "      <td>200.0</td>\n",
       "      <td>0.0</td>\n",
       "      <td>100.0</td>\n",
       "      <td>9855.0</td>\n",
       "      <td>100.0</td>\n",
       "      <td>5.296665e+10</td>\n",
       "      <td>100.0</td>\n",
       "      <td>1.081047e+11</td>\n",
       "      <td>0</td>\n",
       "    </tr>\n",
       "    <tr>\n",
       "      <th>4</th>\n",
       "      <td>2019-03-01</td>\n",
       "      <td>ZCH0547F</td>\n",
       "      <td>ST12000NM0007</td>\n",
       "      <td>12000138625024</td>\n",
       "      <td>1</td>\n",
       "      <td>79.0</td>\n",
       "      <td>73253752.0</td>\n",
       "      <td>92.0</td>\n",
       "      <td>0.0</td>\n",
       "      <td>100.0</td>\n",
       "      <td>...</td>\n",
       "      <td>0.0</td>\n",
       "      <td>200.0</td>\n",
       "      <td>0.0</td>\n",
       "      <td>100.0</td>\n",
       "      <td>11427.0</td>\n",
       "      <td>100.0</td>\n",
       "      <td>5.643299e+10</td>\n",
       "      <td>100.0</td>\n",
       "      <td>1.052615e+11</td>\n",
       "      <td>1</td>\n",
       "    </tr>\n",
       "    <tr>\n",
       "      <th>5</th>\n",
       "      <td>2019-03-01</td>\n",
       "      <td>57QEWPXQT</td>\n",
       "      <td>TOSHIBA MQ01ABF050</td>\n",
       "      <td>500107862016</td>\n",
       "      <td>1</td>\n",
       "      <td>100.0</td>\n",
       "      <td>0.0</td>\n",
       "      <td>100.0</td>\n",
       "      <td>1997.0</td>\n",
       "      <td>100.0</td>\n",
       "      <td>...</td>\n",
       "      <td>0.0</td>\n",
       "      <td>200.0</td>\n",
       "      <td>0.0</td>\n",
       "      <td>100.0</td>\n",
       "      <td>0.0</td>\n",
       "      <td>NaN</td>\n",
       "      <td>NaN</td>\n",
       "      <td>NaN</td>\n",
       "      <td>NaN</td>\n",
       "      <td>1</td>\n",
       "    </tr>\n",
       "    <tr>\n",
       "      <th>6</th>\n",
       "      <td>2019-03-01</td>\n",
       "      <td>ZJV1L5N1</td>\n",
       "      <td>ST12000NM0007</td>\n",
       "      <td>12000138625024</td>\n",
       "      <td>1</td>\n",
       "      <td>78.0</td>\n",
       "      <td>68119032.0</td>\n",
       "      <td>91.0</td>\n",
       "      <td>0.0</td>\n",
       "      <td>100.0</td>\n",
       "      <td>...</td>\n",
       "      <td>0.0</td>\n",
       "      <td>200.0</td>\n",
       "      <td>0.0</td>\n",
       "      <td>100.0</td>\n",
       "      <td>2896.0</td>\n",
       "      <td>100.0</td>\n",
       "      <td>2.845420e+10</td>\n",
       "      <td>100.0</td>\n",
       "      <td>2.849878e+10</td>\n",
       "      <td>1</td>\n",
       "    </tr>\n",
       "    <tr>\n",
       "      <th>7</th>\n",
       "      <td>2019-03-01</td>\n",
       "      <td>ZA153SZQ</td>\n",
       "      <td>ST8000NM0055</td>\n",
       "      <td>8001563222016</td>\n",
       "      <td>1</td>\n",
       "      <td>78.0</td>\n",
       "      <td>59978584.0</td>\n",
       "      <td>84.0</td>\n",
       "      <td>0.0</td>\n",
       "      <td>100.0</td>\n",
       "      <td>...</td>\n",
       "      <td>0.0</td>\n",
       "      <td>200.0</td>\n",
       "      <td>0.0</td>\n",
       "      <td>100.0</td>\n",
       "      <td>14941.0</td>\n",
       "      <td>100.0</td>\n",
       "      <td>4.709905e+10</td>\n",
       "      <td>100.0</td>\n",
       "      <td>1.018428e+11</td>\n",
       "      <td>1</td>\n",
       "    </tr>\n",
       "    <tr>\n",
       "      <th>8</th>\n",
       "      <td>2019-03-01</td>\n",
       "      <td>ZA13GZB3</td>\n",
       "      <td>ST8000NM0055</td>\n",
       "      <td>8001563222016</td>\n",
       "      <td>1</td>\n",
       "      <td>70.0</td>\n",
       "      <td>20637384.0</td>\n",
       "      <td>98.0</td>\n",
       "      <td>0.0</td>\n",
       "      <td>100.0</td>\n",
       "      <td>...</td>\n",
       "      <td>0.0</td>\n",
       "      <td>200.0</td>\n",
       "      <td>0.0</td>\n",
       "      <td>100.0</td>\n",
       "      <td>15274.0</td>\n",
       "      <td>100.0</td>\n",
       "      <td>4.877498e+10</td>\n",
       "      <td>100.0</td>\n",
       "      <td>1.111616e+11</td>\n",
       "      <td>1</td>\n",
       "    </tr>\n",
       "    <tr>\n",
       "      <th>9</th>\n",
       "      <td>2019-03-02</td>\n",
       "      <td>S2ZYJ9GGB01043</td>\n",
       "      <td>ST500LM012 HN</td>\n",
       "      <td>500107862016</td>\n",
       "      <td>1</td>\n",
       "      <td>100.0</td>\n",
       "      <td>4530.0</td>\n",
       "      <td>95.0</td>\n",
       "      <td>1814.0</td>\n",
       "      <td>100.0</td>\n",
       "      <td>...</td>\n",
       "      <td>0.0</td>\n",
       "      <td>200.0</td>\n",
       "      <td>0.0</td>\n",
       "      <td>NaN</td>\n",
       "      <td>NaN</td>\n",
       "      <td>NaN</td>\n",
       "      <td>NaN</td>\n",
       "      <td>NaN</td>\n",
       "      <td>NaN</td>\n",
       "      <td>2</td>\n",
       "    </tr>\n",
       "  </tbody>\n",
       "</table>\n",
       "<p>10 rows × 46 columns</p>\n",
       "</div>"
      ],
      "text/plain": [
       "        date   serial_number               model  capacity_bytes  failure  \\\n",
       "0 2019-02-28        S301NH5Z         ST4000DM000   4000787030016        1   \n",
       "1 2019-02-28        ZCH0DYK0       ST12000NM0007  12000138625024        1   \n",
       "2 2019-02-28        ZCH0AXMF       ST12000NM0007  12000138625024        1   \n",
       "3 2019-02-28        ZCH03YFN       ST12000NM0007  12000138625024        1   \n",
       "4 2019-03-01        ZCH0547F       ST12000NM0007  12000138625024        1   \n",
       "5 2019-03-01       57QEWPXQT  TOSHIBA MQ01ABF050    500107862016        1   \n",
       "6 2019-03-01        ZJV1L5N1       ST12000NM0007  12000138625024        1   \n",
       "7 2019-03-01        ZA153SZQ        ST8000NM0055   8001563222016        1   \n",
       "8 2019-03-01        ZA13GZB3        ST8000NM0055   8001563222016        1   \n",
       "9 2019-03-02  S2ZYJ9GGB01043       ST500LM012 HN    500107862016        1   \n",
       "\n",
       "   smart_1_normalized  smart_1_raw  smart_3_normalized  smart_3_raw  \\\n",
       "0               116.0  116052776.0                92.0          0.0   \n",
       "1                82.0  168484080.0                91.0          0.0   \n",
       "2                80.0   93240536.0                94.0          0.0   \n",
       "3                83.0  182583552.0                91.0          0.0   \n",
       "4                79.0   73253752.0                92.0          0.0   \n",
       "5               100.0          0.0               100.0       1997.0   \n",
       "6                78.0   68119032.0                91.0          0.0   \n",
       "7                78.0   59978584.0                84.0          0.0   \n",
       "8                70.0   20637384.0                98.0          0.0   \n",
       "9               100.0       4530.0                95.0       1814.0   \n",
       "\n",
       "   smart_4_normalized  ...  smart_198_raw  smart_199_normalized  \\\n",
       "0               100.0  ...            0.0                 200.0   \n",
       "1               100.0  ...            0.0                 200.0   \n",
       "2               100.0  ...            0.0                 200.0   \n",
       "3               100.0  ...            0.0                 200.0   \n",
       "4               100.0  ...            0.0                 200.0   \n",
       "5               100.0  ...            0.0                 200.0   \n",
       "6               100.0  ...            0.0                 200.0   \n",
       "7               100.0  ...            0.0                 200.0   \n",
       "8               100.0  ...            0.0                 200.0   \n",
       "9               100.0  ...            0.0                 200.0   \n",
       "\n",
       "   smart_199_raw  smart_240_normalized  smart_240_raw  smart_241_normalized  \\\n",
       "0            0.0                 100.0        27603.0                 100.0   \n",
       "1            0.0                 100.0         6898.0                 100.0   \n",
       "2            0.0                 100.0         9552.0                 100.0   \n",
       "3            0.0                 100.0         9855.0                 100.0   \n",
       "4            0.0                 100.0        11427.0                 100.0   \n",
       "5            0.0                 100.0            0.0                   NaN   \n",
       "6            0.0                 100.0         2896.0                 100.0   \n",
       "7            0.0                 100.0        14941.0                 100.0   \n",
       "8            0.0                 100.0        15274.0                 100.0   \n",
       "9            0.0                   NaN            NaN                   NaN   \n",
       "\n",
       "   smart_241_raw  smart_242_normalized  smart_242_raw  lifetime  \n",
       "0   2.855573e+10                 100.0   1.372069e+11         0  \n",
       "1   3.684632e+10                 100.0   5.536328e+10         0  \n",
       "2   5.001290e+10                 100.0   8.338128e+10         0  \n",
       "3   5.296665e+10                 100.0   1.081047e+11         0  \n",
       "4   5.643299e+10                 100.0   1.052615e+11         1  \n",
       "5            NaN                   NaN            NaN         1  \n",
       "6   2.845420e+10                 100.0   2.849878e+10         1  \n",
       "7   4.709905e+10                 100.0   1.018428e+11         1  \n",
       "8   4.877498e+10                 100.0   1.111616e+11         1  \n",
       "9            NaN                   NaN            NaN         2  \n",
       "\n",
       "[10 rows x 46 columns]"
      ]
     },
     "execution_count": 24,
     "metadata": {},
     "output_type": "execute_result"
    }
   ],
   "source": [
    "#Find the lifetime of failed hard drives\n",
    "lifetimes = []\n",
    "for index,row in hdd_fail1.iterrows():\n",
    "    start_date = hdd_fail1.iloc[0]['date']\n",
    "    #print(start_date)\n",
    "    end_date = row['date']\n",
    "    #print(end_date)\n",
    "\n",
    "    time_difference = pd.to_datetime(end_date) - pd.to_datetime(start_date)\n",
    "    lifetimes.append(time_difference.days)\n",
    "    \n",
    "hdd_fail1['lifetime'] = lifetimes  \n",
    "hdd_fail1.head(10)"
   ]
  },
  {
   "cell_type": "code",
   "execution_count": 22,
   "metadata": {},
   "outputs": [],
   "source": [
    "#Fliter failed hard drives that have lifetime larger than 0\n",
    "Fhdd_fail = hdd_fail1[hdd_fail1['lifetime'] > 0]"
   ]
  },
  {
   "cell_type": "markdown",
   "metadata": {},
   "source": [
    "##### 3.3 Lifetime Visualization"
   ]
  },
  {
   "cell_type": "code",
   "execution_count": 19,
   "metadata": {},
   "outputs": [
    {
     "data": {
      "image/png": "[encoded data removed]",
      "text/plain": [
       "<Figure size 432x288 with 1 Axes>"
      ]
     },
     "metadata": {
      "needs_background": "light"
     },
     "output_type": "display_data"
    }
   ],
   "source": [
    "#Distribution of the lifetime\n",
    "sns.distplot(Fhdd_fail['lifetime']); "
   ]
  },
  {
   "cell_type": "markdown",
   "metadata": {},
   "source": [
    "From the plot, we can see the distribution of lifetime among failed drives is highly left skewed, the lifetime are centered between 200-300."
   ]
  },
  {
   "cell_type": "code",
   "execution_count": 20,
   "metadata": {},
   "outputs": [
    {
     "data": {
      "text/plain": [
       "<matplotlib.axes._subplots.AxesSubplot at 0x7f716b0bbd50>"
      ]
     },
     "execution_count": 20,
     "metadata": {},
     "output_type": "execute_result"
    },
    {
     "data": {
      "image/png": "[encoded data removed]",
      "text/plain": [
       "<Figure size 720x288 with 1 Axes>"
      ]
     },
     "metadata": {
      "needs_background": "light"
     },
     "output_type": "display_data"
    }
   ],
   "source": [
    "#Box Plot of the lifetime\n",
    "plt.figure(figsize=(10,4))\n",
    "sns.boxplot(x=Fhdd_fail['lifetime'])"
   ]
  },
  {
   "cell_type": "markdown",
   "metadata": {},
   "source": [
    "From the plot, we can clearly see that the life span of failure hard drive is 0-300 days, and the median is around 170."
   ]
  },
  {
   "cell_type": "code",
   "execution_count": 28,
   "metadata": {},
   "outputs": [],
   "source": [
    "spark.stop()"
   ]
  },
  {
   "cell_type": "code",
   "execution_count": null,
   "metadata": {},
   "outputs": [],
   "source": []
  }
 ],
 "metadata": {
  "kernelspec": {
   "display_name": "Python 3",
   "language": "python",
   "name": "python3"
  },
  "language_info": {
   "codemirror_mode": {
    "name": "ipython",
    "version": 3
   },
   "file_extension": ".py",
   "mimetype": "text/x-python",
   "name": "python",
   "nbconvert_exporter": "python",
   "pygments_lexer": "ipython3",
   "version": "3.7.7"
  }
 },
 "nbformat": 4,
 "nbformat_minor": 4
}
